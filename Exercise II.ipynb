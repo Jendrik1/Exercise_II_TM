{
 "cells": [
  {
   "cell_type": "markdown",
   "id": "041e208a",
   "metadata": {},
   "source": [
    "### Exercise II: Exploratory Data Analysis ###\n",
    "Perform an exploratory data analysis on the provided dataset. Create at least three different visualizations and provide a brief interpretation of each."
   ]
  },
  {
   "cell_type": "code",
   "execution_count": null,
   "id": "4818b869",
   "metadata": {},
   "outputs": [],
   "source": [
    "import numpy as np\n",
    "import pandas as pd\n",
    "import matplotlib as mpl\n",
    "import statsmodels\n",
    "\n",
    "df = pd.read_csv('ModifiedData.csv', sep=';')"
   ]
  },
  {
   "cell_type": "markdown",
   "id": "a44d77b0",
   "metadata": {},
   "source": [
    "#### Assistance provided by the LLM: ###"
   ]
  },
  {
   "cell_type": "code",
   "execution_count": null,
   "id": "a8904bbb",
   "metadata": {},
   "outputs": [],
   "source": [
    "# Line plot\n",
    "plt.plot(df['date'], df['dow'], color='blue')\n",
    "plt.plot(df['date'], df['dax'], color='green')\n",
    "plt.show()\n",
    "\n",
    "# Histogram\n",
    "plt.hist(df['dow'], bins=30, color='blue', alpha=0.5)\n",
    "plt.hist(df['dax'], bins=30, color='green', alpha=0.5)\n",
    "plt.show()\n",
    "\n",
    "# Scatter plot\n",
    "plt.scatter(df['dow'], df['dax'], color='purple')\n",
    "plt.show()"
   ]
  },
  {
   "cell_type": "code",
   "execution_count": null,
   "id": "76503450",
   "metadata": {},
   "outputs": [],
   "source": [
    "# What you type in here will not be saved! Please copy your final code onto the main page\n",
    "# Your TEMPORARY solution here:"
   ]
  }
 ],
 "metadata": {
  "kernelspec": {
   "display_name": "mainenv",
   "language": "python",
   "name": "mainenv"
  },
  "language_info": {
   "codemirror_mode": {
    "name": "ipython",
    "version": 3
   },
   "file_extension": ".py",
   "mimetype": "text/x-python",
   "name": "python",
   "nbconvert_exporter": "python",
   "pygments_lexer": "ipython3",
   "version": "3.11.3"
  }
 },
 "nbformat": 4,
 "nbformat_minor": 5
}
